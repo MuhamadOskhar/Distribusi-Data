{
  "nbformat": 4,
  "nbformat_minor": 0,
  "metadata": {
    "colab": {
      "provenance": [],
      "authorship_tag": "ABX9TyPqbYSOFvmWnhGavhEDKS1O",
      "include_colab_link": true
    },
    "kernelspec": {
      "name": "python3",
      "display_name": "Python 3"
    },
    "language_info": {
      "name": "python"
    }
  },
  "cells": [
    {
      "cell_type": "markdown",
      "metadata": {
        "id": "view-in-github",
        "colab_type": "text"
      },
      "source": [
        "<a href=\"https://colab.research.google.com/github/MuhamadOskhar/Distribusi-Data/blob/main/Distribusi_Data.ipynb\" target=\"_parent\"><img src=\"https://colab.research.google.com/assets/colab-badge.svg\" alt=\"Open In Colab\"/></a>"
      ]
    },
    {
      "cell_type": "markdown",
      "source": [
        "**Deklarasi Pustaka**\n",
        "\n",
        "Menyiapkan berbagai pustaka \"*library*,\" yang dibutuhkan dalam pembuatan program"
      ],
      "metadata": {
        "id": "0AJv7KIcCUmT"
      }
    },
    {
      "cell_type": "code",
      "execution_count": 21,
      "metadata": {
        "id": "CT1ScyCXXIc3"
      },
      "outputs": [],
      "source": [
        "from scipy.stats import binom"
      ]
    },
    {
      "cell_type": "markdown",
      "source": [
        "Deklarasi fungsi yang dibutuhkan untuk perhitungan semua rumus Distribusi di bawah"
      ],
      "metadata": {
        "id": "L_Bkks32aUqt"
      }
    },
    {
      "cell_type": "code",
      "source": [
        "def faktorial(angka):\n",
        "  hasil = 1\n",
        "  for i in range(1, angka + 1):\n",
        "    hasil *= i\n",
        "  return hasil\n",
        "\n",
        "def kombin(a, b):\n",
        "  return (faktorial(a) / (faktorial(a-b) * faktorial(b)))"
      ],
      "metadata": {
        "id": "5upnskvhaYLc"
      },
      "execution_count": 12,
      "outputs": []
    },
    {
      "cell_type": "markdown",
      "source": [
        "**Distribusi Binomial**\n",
        "\n",
        "{ Deskripsi }"
      ],
      "metadata": {
        "id": "MQfHGXAuXMmq"
      }
    },
    {
      "cell_type": "markdown",
      "source": [
        "Assigmen fungsi untuk perhitungan manual dari probabilitas distribusi Binomial"
      ],
      "metadata": {
        "id": "R4LEkQbODEx8"
      }
    },
    {
      "cell_type": "code",
      "source": [
        "def dist_b(n, x, p):\n",
        "  q = 1 - p\n",
        "  hasil = kombin(n, x) * p**x * q**(n-x)\n",
        "  return hasil"
      ],
      "metadata": {
        "id": "8WGeLic-DY6U"
      },
      "execution_count": 14,
      "outputs": []
    },
    {
      "cell_type": "markdown",
      "source": [
        "**PENERAPAN PADA CONTOH SOAL**\n",
        "\n",
        "**Contoh Soal 1**\n",
        "\n",
        "Kemungkinan yang dimiliki seorang balita untuk tidak diimunisasi campak\n",
        "adalah 1/5. Pada tanggal 26 Juni 2022, di klinik Fathullah Kece terdapat 4 orang\n",
        "balita. Berapakah peluang dari balita tersebut 2 orang belum mendapatkan\n",
        "imunisasi campak?\n",
        "\n",
        "Diketahui\n",
        "n = 4; x = 2; p = 1/5; "
      ],
      "metadata": {
        "id": "c-lPDkjsbCRv"
      }
    },
    {
      "cell_type": "markdown",
      "source": [
        "**Rumus Manual**"
      ],
      "metadata": {
        "id": "h8xhCsy0dFlD"
      }
    },
    {
      "cell_type": "code",
      "source": [
        "n = 4\n",
        "x = 2\n",
        "p = 1/5\n",
        "\n",
        "dist_b(n, x, p)"
      ],
      "metadata": {
        "id": "FVqti8gsbbPx",
        "outputId": "67f4f30a-321a-464e-b75f-9be70585d061",
        "colab": {
          "base_uri": "https://localhost:8080/"
        }
      },
      "execution_count": 30,
      "outputs": [
        {
          "output_type": "execute_result",
          "data": {
            "text/plain": [
              "0.15360000000000007"
            ]
          },
          "metadata": {},
          "execution_count": 30
        }
      ]
    },
    {
      "cell_type": "markdown",
      "source": [
        "**Rumus Pustaka**"
      ],
      "metadata": {
        "id": "ZiZ5i7tmddUp"
      }
    },
    {
      "cell_type": "code",
      "source": [
        "n = 4\n",
        "x = 2\n",
        "p = 1/5\n",
        "\n",
        "binom.pmf(x, n, p)"
      ],
      "metadata": {
        "id": "bXxnKGjTdhDf",
        "outputId": "84d517e9-a5f0-46fd-b59f-303a754b7713",
        "colab": {
          "base_uri": "https://localhost:8080/"
        }
      },
      "execution_count": 29,
      "outputs": [
        {
          "output_type": "execute_result",
          "data": {
            "text/plain": [
              "0.1535999999999999"
            ]
          },
          "metadata": {},
          "execution_count": 29
        }
      ]
    },
    {
      "cell_type": "markdown",
      "source": [
        "**Contohh Soal 2**\n",
        "\n",
        "Hitunglah berapa peluang seseorang mendapatkan 1 kali dalam 3 percobaan berupa angka 5 dari kombinasi 2 buah dadu yang dilontarkan.\n",
        "\n",
        "Diketahui n = 3; x = 1; p = ?\n",
        "\n",
        "Kombinasi dadu yang menghasilkan angka 5 = {(1,4), (2, 3), (3,2), (4,1)}\n",
        "Jadi, p = 4/36 = 1/9"
      ],
      "metadata": {
        "id": "Er58CBrMcEVw"
      }
    },
    {
      "cell_type": "markdown",
      "source": [
        "**Rumus Manual**"
      ],
      "metadata": {
        "id": "5Zn150D_e0KX"
      }
    },
    {
      "cell_type": "code",
      "source": [
        "n = 3\n",
        "x = 1\n",
        "p = 1/9\n",
        "\n",
        "dist_b(n, x, p)"
      ],
      "metadata": {
        "id": "Zu3oxkA2cH7h",
        "outputId": "0ec940e5-cec3-4e5b-d9ec-4f8d99a99319",
        "colab": {
          "base_uri": "https://localhost:8080/"
        }
      },
      "execution_count": 31,
      "outputs": [
        {
          "output_type": "execute_result",
          "data": {
            "text/plain": [
              "0.2633744855967078"
            ]
          },
          "metadata": {},
          "execution_count": 31
        }
      ]
    },
    {
      "cell_type": "markdown",
      "source": [
        "**Rumus Pustaka**"
      ],
      "metadata": {
        "id": "YK15kj8Te33O"
      }
    },
    {
      "cell_type": "code",
      "source": [
        "n = 3\n",
        "x = 1\n",
        "p = 1/9\n",
        "\n",
        "binom.pmf(x, n, p)"
      ],
      "metadata": {
        "id": "nm2UWADUe9ze",
        "outputId": "bc8b3847-bd98-4bda-8781-f3b942120415",
        "colab": {
          "base_uri": "https://localhost:8080/"
        }
      },
      "execution_count": 32,
      "outputs": [
        {
          "output_type": "execute_result",
          "data": {
            "text/plain": [
              "0.2633744855967077"
            ]
          },
          "metadata": {},
          "execution_count": 32
        }
      ]
    },
    {
      "cell_type": "markdown",
      "source": [
        "**Distribusi Hypergeometric**\n",
        "\n",
        "{ Deskripsi }"
      ],
      "metadata": {
        "id": "scOy6ByADq9V"
      }
    },
    {
      "cell_type": "markdown",
      "source": [
        "Assigmen fungsi untuk perhitungan manual dari probabilitas distribusi Hypergeometric"
      ],
      "metadata": {
        "id": "FL4LFHPhD593"
      }
    },
    {
      "cell_type": "code",
      "source": [
        "def dist_h():\n",
        "  hasil = 0\n",
        "  return hasil"
      ],
      "metadata": {
        "id": "wghI4NezEoIT"
      },
      "execution_count": null,
      "outputs": []
    },
    {
      "cell_type": "markdown",
      "source": [
        "**Distribusi Poisson**\n",
        "\n",
        "{ Deskripsi }\n"
      ],
      "metadata": {
        "id": "83DhiGaEFCSj"
      }
    },
    {
      "cell_type": "markdown",
      "source": [
        "Assigmen fungsi untuk perhitungan manual dari probabilitas distribusi Poisson"
      ],
      "metadata": {
        "id": "IJ0fsle8FRTC"
      }
    },
    {
      "cell_type": "code",
      "source": [
        "def dist_p():\n",
        "  hasil = \n",
        "  return hasil"
      ],
      "metadata": {
        "id": "qMPl3MZnFeSW"
      },
      "execution_count": null,
      "outputs": []
    }
  ]
}