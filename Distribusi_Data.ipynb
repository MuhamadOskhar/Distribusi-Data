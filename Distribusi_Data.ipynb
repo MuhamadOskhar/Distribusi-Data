{
  "nbformat": 4,
  "nbformat_minor": 0,
  "metadata": {
    "colab": {
      "provenance": [],
      "authorship_tag": "ABX9TyPTjDEOFTVOJnIIc/e7xTmB",
      "include_colab_link": true
    },
    "kernelspec": {
      "name": "python3",
      "display_name": "Python 3"
    },
    "language_info": {
      "name": "python"
    }
  },
  "cells": [
    {
      "cell_type": "markdown",
      "metadata": {
        "id": "view-in-github",
        "colab_type": "text"
      },
      "source": [
        "<a href=\"https://colab.research.google.com/github/MuhamadOskhar/Distribusi-Data/blob/main/Distribusi_Data.ipynb\" target=\"_parent\"><img src=\"https://colab.research.google.com/assets/colab-badge.svg\" alt=\"Open In Colab\"/></a>"
      ]
    },
    {
      "cell_type": "markdown",
      "source": [
        "**Deklarasi Pustaka**\n",
        "\n",
        "Menyiapkan berbagai pustaka \"*library*,\" yang dibutuhkan dalam pembuatan program"
      ],
      "metadata": {
        "id": "0AJv7KIcCUmT"
      }
    },
    {
      "cell_type": "code",
      "execution_count": null,
      "metadata": {
        "id": "CT1ScyCXXIc3"
      },
      "outputs": [],
      "source": [
        "import"
      ]
    },
    {
      "cell_type": "markdown",
      "source": [
        "**Distribusi Binomial**\n",
        "\n",
        "{ Deskripsi }"
      ],
      "metadata": {
        "id": "MQfHGXAuXMmq"
      }
    },
    {
      "cell_type": "markdown",
      "source": [
        "Assigmen fungsi untuk perhitungan manual dari probabilitas distribusi Binomial"
      ],
      "metadata": {
        "id": "R4LEkQbODEx8"
      }
    },
    {
      "cell_type": "code",
      "source": [
        "def dist_b():\n",
        "  hasil = \n",
        "  return hasil"
      ],
      "metadata": {
        "id": "8WGeLic-DY6U"
      },
      "execution_count": null,
      "outputs": []
    },
    {
      "cell_type": "markdown",
      "source": [
        "**Distribusi Hypergeometric**\n",
        "\n",
        "{ Deskripsi }"
      ],
      "metadata": {
        "id": "scOy6ByADq9V"
      }
    },
    {
      "cell_type": "markdown",
      "source": [
        "Assigmen fungsi untuk perhitungan manual dari probabilitas distribusi Hypergeometric"
      ],
      "metadata": {
        "id": "FL4LFHPhD593"
      }
    },
    {
      "cell_type": "code",
      "source": [
        "def dist_h():\n",
        "  hasil = 0\n",
        "  return hasil"
      ],
      "metadata": {
        "id": "wghI4NezEoIT"
      },
      "execution_count": 2,
      "outputs": []
    },
    {
      "cell_type": "markdown",
      "source": [
        "**Distribusi Poisson**\n",
        "\n",
        "{ Deskripsi }\n"
      ],
      "metadata": {
        "id": "83DhiGaEFCSj"
      }
    },
    {
      "cell_type": "markdown",
      "source": [
        "Assigmen fungsi untuk perhitungan manual dari probabilitas distribusi Poisson"
      ],
      "metadata": {
        "id": "IJ0fsle8FRTC"
      }
    },
    {
      "cell_type": "code",
      "source": [
        "def dist_p():\n",
        "  hasil = \n",
        "  return hasil"
      ],
      "metadata": {
        "id": "qMPl3MZnFeSW"
      },
      "execution_count": null,
      "outputs": []
    }
  ]
}