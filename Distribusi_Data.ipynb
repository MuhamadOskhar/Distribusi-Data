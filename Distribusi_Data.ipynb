{
  "nbformat": 4,
  "nbformat_minor": 0,
  "metadata": {
    "colab": {
      "provenance": [],
      "include_colab_link": true
    },
    "kernelspec": {
      "name": "python3",
      "display_name": "Python 3"
    },
    "language_info": {
      "name": "python"
    }
  },
  "cells": [
    {
      "cell_type": "markdown",
      "metadata": {
        "id": "view-in-github",
        "colab_type": "text"
      },
      "source": [
        "<a href=\"https://colab.research.google.com/github/MuhamadOskhar/Distribusi-Data/blob/main/Distribusi_Data.ipynb\" target=\"_parent\"><img src=\"https://colab.research.google.com/assets/colab-badge.svg\" alt=\"Open In Colab\"/></a>"
      ]
    },
    {
      "cell_type": "markdown",
      "source": [
        "**Deklarasi Pustaka**\n",
        "\n",
        "Menyiapkan berbagai pustaka \"*library*,\" yang dibutuhkan dalam pembuatan program"
      ],
      "metadata": {
        "id": "0AJv7KIcCUmT"
      }
    },
    {
      "cell_type": "code",
      "execution_count": 22,
      "metadata": {
        "id": "CT1ScyCXXIc3"
      },
      "outputs": [],
      "source": [
        "from scipy.stats import binom, hypergeom, poisson, norm\n",
        "from math import e"
      ]
    },
    {
      "cell_type": "markdown",
      "source": [
        "Deklarasi fungsi yang dibutuhkan untuk perhitungan semua rumus Distribusi di bawah"
      ],
      "metadata": {
        "id": "L_Bkks32aUqt"
      }
    },
    {
      "cell_type": "code",
      "source": [
        "def faktorial(angka):\n",
        "  hasil = 1\n",
        "  for i in range(1, angka + 1):\n",
        "    hasil *= i\n",
        "  return hasil\n",
        "\n",
        "def kombin(a, b):\n",
        "  return (faktorial(a) / (faktorial(a-b) * faktorial(b)))"
      ],
      "metadata": {
        "id": "5upnskvhaYLc"
      },
      "execution_count": null,
      "outputs": []
    },
    {
      "cell_type": "markdown",
      "source": [
        "**Distribusi Binomial**\n",
        "\n",
        "{ binomial adalah suatu polinomial yang merupakan salah satu jumlah dari dua suku yang masing-masingnya merupakan monomial. Binomial merupakan jenis polinomial rongga sederhana setelah monomial.\n",
        "\n",
        "Rumus\n",
        "Px = (nCx)p^x q^n-x }"
      ],
      "metadata": {
        "id": "MQfHGXAuXMmq"
      }
    },
    {
      "cell_type": "markdown",
      "source": [
        "Assigmen fungsi untuk perhitungan manual dari probabilitas distribusi Binomial"
      ],
      "metadata": {
        "id": "R4LEkQbODEx8"
      }
    },
    {
      "cell_type": "code",
      "source": [
        "def dist_b(n, x, p):\n",
        "  q = 1 - p\n",
        "  hasil = kombin(n, x) * p**x * q**(n-x)\n",
        "  return hasil"
      ],
      "metadata": {
        "id": "8WGeLic-DY6U"
      },
      "execution_count": null,
      "outputs": []
    },
    {
      "cell_type": "markdown",
      "source": [
        "**PENERAPAN PADA CONTOH SOAL**\n",
        "\n",
        "**Contoh Soal 1**\n",
        "\n",
        "Kemungkinan yang dimiliki seorang balita untuk tidak diimunisasi campak\n",
        "adalah 1/5. Pada tanggal 26 Juni 2022, di klinik Fathullah Kece terdapat 4 orang\n",
        "balita. Berapakah peluang dari balita tersebut 2 orang belum mendapatkan\n",
        "imunisasi campak?\n",
        "\n",
        "Diketahui\n",
        "n = 4; x = 2; p = 1/5;"
      ],
      "metadata": {
        "id": "c-lPDkjsbCRv"
      }
    },
    {
      "cell_type": "markdown",
      "source": [
        "**Rumus Manual**"
      ],
      "metadata": {
        "id": "h8xhCsy0dFlD"
      }
    },
    {
      "cell_type": "code",
      "source": [
        "n = 4\n",
        "x = 2\n",
        "p = 1/5\n",
        "\n",
        "dist_b(n, x, p)"
      ],
      "metadata": {
        "colab": {
          "base_uri": "https://localhost:8080/"
        },
        "id": "FVqti8gsbbPx",
        "outputId": "3482e7df-f50b-43e4-9be5-972ce4239d64"
      },
      "execution_count": null,
      "outputs": [
        {
          "output_type": "execute_result",
          "data": {
            "text/plain": [
              "0.15360000000000007"
            ]
          },
          "metadata": {},
          "execution_count": 6
        }
      ]
    },
    {
      "cell_type": "markdown",
      "source": [
        "**Rumus Pustaka**"
      ],
      "metadata": {
        "id": "ZiZ5i7tmddUp"
      }
    },
    {
      "cell_type": "code",
      "source": [
        "n = 4\n",
        "x = 2\n",
        "p = 1/5\n",
        "\n",
        "binom.pmf(x, n, p)"
      ],
      "metadata": {
        "colab": {
          "base_uri": "https://localhost:8080/"
        },
        "id": "bXxnKGjTdhDf",
        "outputId": "4a65db79-7703-45c1-ef2f-ae364445dc5e"
      },
      "execution_count": 57,
      "outputs": [
        {
          "output_type": "execute_result",
          "data": {
            "text/plain": [
              "0.1535999999999999"
            ]
          },
          "metadata": {},
          "execution_count": 57
        }
      ]
    },
    {
      "cell_type": "markdown",
      "source": [
        "**Contohh Soal 2**\n",
        "\n",
        "Hitunglah berapa peluang seseorang mendapatkan 1 kali dalam 3 percobaan berupa angka 5 dari kombinasi 2 buah dadu yang dilontarkan.\n",
        "\n",
        "Diketahui n = 3; x = 1; p = ?\n",
        "\n",
        "Kombinasi dadu yang menghasilkan angka 5 = {(1,4), (2, 3), (3,2), (4,1)}\n",
        "Jadi, p = 4/36 = 1/9"
      ],
      "metadata": {
        "id": "Er58CBrMcEVw"
      }
    },
    {
      "cell_type": "markdown",
      "source": [
        "**Rumus Manual**"
      ],
      "metadata": {
        "id": "5Zn150D_e0KX"
      }
    },
    {
      "cell_type": "code",
      "source": [
        "n = 3\n",
        "x = 1\n",
        "p = 1/9\n",
        "\n",
        "dist_b(n, x, p)"
      ],
      "metadata": {
        "colab": {
          "base_uri": "https://localhost:8080/"
        },
        "id": "Zu3oxkA2cH7h",
        "outputId": "ab452ae8-d46d-4bc5-ca4f-00453d029841"
      },
      "execution_count": null,
      "outputs": [
        {
          "output_type": "execute_result",
          "data": {
            "text/plain": [
              "0.2633744855967078"
            ]
          },
          "metadata": {},
          "execution_count": 8
        }
      ]
    },
    {
      "cell_type": "markdown",
      "source": [
        "**Rumus Pustaka**"
      ],
      "metadata": {
        "id": "YK15kj8Te33O"
      }
    },
    {
      "cell_type": "code",
      "source": [
        "n = 3\n",
        "x = 1\n",
        "p = 1/9\n",
        "\n",
        "binom.pmf(x, n, p)"
      ],
      "metadata": {
        "colab": {
          "base_uri": "https://localhost:8080/"
        },
        "id": "nm2UWADUe9ze",
        "outputId": "6a6b62ff-24c9-46fe-ac59-2dc1ffa4a682"
      },
      "execution_count": null,
      "outputs": [
        {
          "output_type": "execute_result",
          "data": {
            "text/plain": [
              "0.2633744855967077"
            ]
          },
          "metadata": {},
          "execution_count": 9
        }
      ]
    },
    {
      "cell_type": "markdown",
      "source": [
        "**Distribusi Hypergeometric**\n",
        "\n",
        "{ Distribusi hipergeometrik merupakan salah satu distribusi peubah acak diskrit yang penting. Ahli statistik sering menggunakan distribusi hipergeometrik untuk melengkapi jenis analisis yang dapat dibuat dengan menggunakan distribusi binomial.\n",
        "\n",
        "Penempatan / Penggunaan\n",
        "Hypergeometri digunakan ketika sample yang di ambil adalah sampel tanpa pengembalian, jika dalam suatu soal tidak didapati penjelasan mengenai sampel tanpa penngembalian, maka bisa di asumsikan bahwa soal itu adalah binomial.\n",
        "\n",
        "Rumus\n",
        "P(x) = sCx (N-s)C(n-x)/NCn }"
      ],
      "metadata": {
        "id": "scOy6ByADq9V"
      }
    },
    {
      "cell_type": "markdown",
      "source": [
        "Assigmen fungsi untuk perhitungan manual dari probabilitas distribusi Hypergeometric"
      ],
      "metadata": {
        "id": "FL4LFHPhD593"
      }
    },
    {
      "cell_type": "code",
      "source": [
        "def dist_h(n, s, z, x):\n",
        "  hasil = (kombin(s, x) * kombin(n-s, z-x)) / kombin(n, z)\n",
        "  return hasil"
      ],
      "metadata": {
        "id": "wghI4NezEoIT"
      },
      "execution_count": null,
      "outputs": []
    },
    {
      "cell_type": "markdown",
      "source": [
        "**PENERAPAN PADA CONTOH SOAL**\n",
        "\n",
        "**Contoh Soal 1**\n",
        "\n",
        "Seorang Manager memilih secara acak 4 staf teladan dari total 15 orang yang terbaik, 5 diantaranya Pria. Akan terpilih 4 orang untuk menjadi karyawan teladan. Berapakah kemungkinan ada 3 Pria yang akan menjadi karyawan teladan?\n",
        "\n",
        "Diketahui n = 15; s = 5; x = 3; z = 4"
      ],
      "metadata": {
        "id": "Vm7gM5Wgg3GN"
      }
    },
    {
      "cell_type": "markdown",
      "source": [
        "**Rumus Manual**"
      ],
      "metadata": {
        "id": "UajDdwelg45k"
      }
    },
    {
      "cell_type": "code",
      "source": [
        "n = 15\n",
        "s = 5\n",
        "x = 3\n",
        "z = 4\n",
        "\n",
        "dist_h(n, s, z, x)"
      ],
      "metadata": {
        "id": "-qYi1hYnhb6-",
        "outputId": "a1f29d2b-f79d-4031-c4c1-70091435aac8",
        "colab": {
          "base_uri": "https://localhost:8080/"
        }
      },
      "execution_count": null,
      "outputs": [
        {
          "output_type": "execute_result",
          "data": {
            "text/plain": [
              "0.07326007326007326"
            ]
          },
          "metadata": {},
          "execution_count": 11
        }
      ]
    },
    {
      "cell_type": "markdown",
      "source": [
        "**Rumus Pustaka**"
      ],
      "metadata": {
        "id": "z4mb2sUfhvF4"
      }
    },
    {
      "cell_type": "code",
      "source": [
        "n = 15\n",
        "s = 5\n",
        "x = 3\n",
        "z = 4\n",
        "\n",
        "hypergeom.pmf(x, n, s, z)"
      ],
      "metadata": {
        "id": "Y8P8M0JEhxYE",
        "outputId": "fcb02352-d994-4be7-bfc4-974046608cac",
        "colab": {
          "base_uri": "https://localhost:8080/"
        }
      },
      "execution_count": null,
      "outputs": [
        {
          "output_type": "execute_result",
          "data": {
            "text/plain": [
              "0.07326007326007326"
            ]
          },
          "metadata": {},
          "execution_count": 12
        }
      ]
    },
    {
      "cell_type": "markdown",
      "source": [
        "**Contoh Soal 2**\n",
        "\n",
        "Di sebuah kelas terdapat 40 siswa, di mana 15 siswa laki-laki dan 25 siswa perempuan. Dalam ujian matematika, terdapat 5 soal pilihan ganda yang harus dijawab. Jika 2 siswa dipilih secara acak untuk diwawancarai dan ditanyakan apakah mereka bisa menjawab soal nomor 3, berapakah probabilitas bahwa kedua siswa tersebut perempuan?\n",
        "\n",
        "Diketahui n = 50; s = 20; x = 2; z = 5"
      ],
      "metadata": {
        "id": "CZqxJZnGilOa"
      }
    },
    {
      "cell_type": "markdown",
      "source": [
        "**Rumus Manual**"
      ],
      "metadata": {
        "id": "Gih62-AwjNjm"
      }
    },
    {
      "cell_type": "code",
      "source": [
        "n = 50\n",
        "s = 20\n",
        "x = 2\n",
        "z = 5\n",
        "\n",
        "dist_h(n, s, z, x)"
      ],
      "metadata": {
        "id": "7vwD7Jr1jDUC",
        "outputId": "58954b50-212a-4618-a03e-22456740fd6c",
        "colab": {
          "base_uri": "https://localhost:8080/"
        }
      },
      "execution_count": null,
      "outputs": [
        {
          "output_type": "execute_result",
          "data": {
            "text/plain": [
              "0.3640808774943835"
            ]
          },
          "metadata": {},
          "execution_count": 13
        }
      ]
    },
    {
      "cell_type": "markdown",
      "source": [
        "**Rumus Pustaka**"
      ],
      "metadata": {
        "id": "xPInldHWjQBi"
      }
    },
    {
      "cell_type": "code",
      "source": [
        "n = 50\n",
        "s = 20\n",
        "x = 2\n",
        "z = 5\n",
        "\n",
        "hypergeom.pmf(x, n, s, z)"
      ],
      "metadata": {
        "id": "2RbNtEdkjSqy",
        "outputId": "27ec962e-796f-4c1c-979e-5b546efe86bd",
        "colab": {
          "base_uri": "https://localhost:8080/"
        }
      },
      "execution_count": null,
      "outputs": [
        {
          "output_type": "execute_result",
          "data": {
            "text/plain": [
              "0.3640808774943835"
            ]
          },
          "metadata": {},
          "execution_count": 14
        }
      ]
    },
    {
      "cell_type": "markdown",
      "source": [
        "**Distribusi Poisson**\n",
        "\n",
        "{ Distribusi Poisson merupakan suatu distribusi yang dipergunakan untuk peristiwa yang memiliki probabilitas kejadiannya kecil, dimana kejadian tersebut tergantung pada interval waktu tertentu atau disuatu daerah tertentu dengan hasil pengamatan yang berupa variabel diskrit (Rachmah dan Purhadi, 2014).\n",
        "\n",
        "Penempatan / Penggunaan\n",
        "Poisson digunakan ketika perhitungan dari soal dirasa memiliki probabilitas yang kecil dan bergantung pada interval waktu tertentu atau suatu daerah tertentu.\n",
        "\n",
        "Rumus\n",
        "P(x) = (μx . e–μ ) / x ! }"
      ],
      "metadata": {
        "id": "83DhiGaEFCSj"
      }
    },
    {
      "cell_type": "markdown",
      "source": [
        "Assigmen fungsi untuk perhitungan manual dari probabilitas distribusi Poisson"
      ],
      "metadata": {
        "id": "IJ0fsle8FRTC"
      }
    },
    {
      "cell_type": "code",
      "source": [
        "def dist_p(lam, x):\n",
        "  hasil = (lam**x * e**(-lam)) / faktorial(x)\n",
        "  return hasil"
      ],
      "metadata": {
        "id": "qMPl3MZnFeSW"
      },
      "execution_count": null,
      "outputs": []
    },
    {
      "cell_type": "markdown",
      "source": [
        "**PENERAPAN PADA CONTOH SOAL**\n",
        "\n",
        "**Contoh Soal 1**\n",
        "\n",
        "Disuatu desa banyak anak kecil yang lewat dalam 1 jam memiliki rata-rata 20 anak-anak kecil yang lewat perjam. Berapa peluang bahwa desa akan menerima 25 anak kecil dalam 1 jam?\n",
        "\n",
        "Diketahui lam = 20; x = 25;"
      ],
      "metadata": {
        "id": "Rk3gxxqpC4QS"
      }
    },
    {
      "cell_type": "markdown",
      "source": [
        "**Rumus Manual**"
      ],
      "metadata": {
        "id": "aXw_F3G9DP0N"
      }
    },
    {
      "cell_type": "code",
      "source": [
        "lam = 20\n",
        "x = 25\n",
        "\n",
        "dist_p(lam, x)"
      ],
      "metadata": {
        "id": "i_D69JweDSKD",
        "outputId": "ab20b80f-9b32-4d03-d9a1-a489f826c9fa",
        "colab": {
          "base_uri": "https://localhost:8080/"
        }
      },
      "execution_count": null,
      "outputs": [
        {
          "output_type": "execute_result",
          "data": {
            "text/plain": [
              "0.04458764910826793"
            ]
          },
          "metadata": {},
          "execution_count": 16
        }
      ]
    },
    {
      "cell_type": "markdown",
      "source": [
        "**Rumus Pustaka**"
      ],
      "metadata": {
        "id": "5c4NQ6X_DmV8"
      }
    },
    {
      "cell_type": "code",
      "source": [
        "lam = 20\n",
        "x = 25\n",
        "\n",
        "poisson.pmf(x, lam)"
      ],
      "metadata": {
        "id": "tnMxjrO_DpFs",
        "outputId": "a1f37f24-ea89-416e-a9c1-50649edadc02",
        "colab": {
          "base_uri": "https://localhost:8080/"
        }
      },
      "execution_count": null,
      "outputs": [
        {
          "output_type": "execute_result",
          "data": {
            "text/plain": [
              "0.04458764910826764"
            ]
          },
          "metadata": {},
          "execution_count": 17
        }
      ]
    },
    {
      "cell_type": "markdown",
      "source": [
        "**Contoh Soal 2**\n",
        "\n",
        "Konversi pakaian menggunakan 20 mesin jahit, Probabilitas sebuah mesin jahit mengalami dan memerlukan perbaikan adalah 0.02, tentukan 3 mesin jahit yang mengalami gangguan dan memerlukan perbaikan.\n",
        "\n",
        "Diketahui n = 20; p = 0.02; x = 3;\n",
        "\n",
        "lam = n * p\n",
        "\n",
        "Jadi, lam = 20 * 0.02 = 0.4"
      ],
      "metadata": {
        "id": "toQ5mx_xD0fg"
      }
    },
    {
      "cell_type": "markdown",
      "source": [
        "**Rumus Manual**"
      ],
      "metadata": {
        "id": "rD-j1ulrEmTp"
      }
    },
    {
      "cell_type": "code",
      "source": [
        "lam = 0.4\n",
        "x = 3\n",
        "\n",
        "dist_p(lam, x)"
      ],
      "metadata": {
        "id": "iQHV6aY0EVOu",
        "outputId": "5ab0a675-997d-4dd0-901a-c581e0119925",
        "colab": {
          "base_uri": "https://localhost:8080/"
        }
      },
      "execution_count": null,
      "outputs": [
        {
          "output_type": "execute_result",
          "data": {
            "text/plain": [
              "0.007150080491046821"
            ]
          },
          "metadata": {},
          "execution_count": 18
        }
      ]
    },
    {
      "cell_type": "markdown",
      "source": [
        "**Rumus Pustaka**"
      ],
      "metadata": {
        "id": "YimFFnurE1Tg"
      }
    },
    {
      "cell_type": "code",
      "source": [
        "lam = 0.4\n",
        "x = 3\n",
        "\n",
        "poisson.pmf(x, lam)"
      ],
      "metadata": {
        "id": "sy7nyfVBE3J4",
        "outputId": "93844df7-d260-4f7c-c279-ecd4a96945fc",
        "colab": {
          "base_uri": "https://localhost:8080/"
        }
      },
      "execution_count": null,
      "outputs": [
        {
          "output_type": "execute_result",
          "data": {
            "text/plain": [
              "0.007150080491046819"
            ]
          },
          "metadata": {},
          "execution_count": 20
        }
      ]
    },
    {
      "cell_type": "markdown",
      "source": [
        "**Distribusi Normal**\n",
        "\n",
        "{ Distribusi normal, juga dikenal sebagai distribusi Gauss atau distribusi Gaussian, adalah salah satu distribusi probabilitas yang paling penting dan paling banyak digunakan dalam statistika. Ini digunakan untuk memodelkan berbagai fenomena di alam, sosial, dan ilmiah yang menghasilkan data berkelanjutan. Distribusi normal memiliki bentuk lonceng atau kurva simetris, dengan puncaknya di tengah dan ekor yang cenderung meluas ke kedua arah.\n",
        "\n",
        "Distribusi normal sepenuhnya ditentukan oleh dua parameter: rata-rata (μ) dan simpangan baku (σ). Rata-rata mengontrol posisi puncak kurva, sedangkan simpangan baku mengontrol sejauh mana data tersebar di sekitar rata-rata. Kurva distribusi normal memiliki nilai harapan (mean) μ dan simpangan baku (standard deviation) σ yang menunjukkan bagaimana data tersebar. }"
      ],
      "metadata": {
        "id": "x1p1ICZpKxVk"
      }
    },
    {
      "cell_type": "markdown",
      "source": [
        "\n",
        "\n",
        "**Contoh Soal 1**\n",
        "\n",
        "Let x be a continuous random variable\n",
        "that is normally distributed with a mean\n",
        "of 25 and a standard deviation of 4.\n",
        "Find the area"
      ],
      "metadata": {
        "id": "bpeV_RQaVqud"
      }
    },
    {
      "cell_type": "code",
      "source": [
        "# Menambahkan library yang dibutuhkan\n",
        "import seaborn as sns\n",
        "from scipy import stats\n",
        "import matplotlib.pyplot as plt\n",
        "\n",
        "# Membuat kurva distribusi normal\n",
        "sns.kdeplot(\n",
        "    stats.norm(25, 4).rvs(8500),\n",
        "    color=\"teal\",\n",
        "    fill=True\n",
        ").set(ylabel=\"contoh soal\");\n",
        "\n",
        "# Membuat garis pemisah\n",
        "plt.axvline(25);\n",
        "plt.axvline(18, color=\"red\", ls=\"--\");\n",
        "plt.axvline(34, color=\"red\", ls=\"--\");"
      ],
      "metadata": {
        "colab": {
          "base_uri": "https://localhost:8080/",
          "height": 430
        },
        "id": "mFHO4GlELQbR",
        "outputId": "f0f87222-e75a-423b-ad91-8c3812785e6c"
      },
      "execution_count": 51,
      "outputs": [
        {
          "output_type": "display_data",
          "data": {
            "text/plain": [
              "<Figure size 640x480 with 1 Axes>"
            ],
            "image/png": "[encoded data removed]"
          },
          "metadata": {}
        }
      ]
    },
    {
      "cell_type": "code",
      "source": [
        "persen_menuju_awal = norm.cdf(18, 25, 4)\n",
        "print(f\"Persentase dari baris pertama menuju paling awal = {persen_menuju_awal}\")\n",
        "\n",
        "persen_menuju_akhir = norm.sf(34, 25, 4)\n",
        "print(f\"Persentase dari baris kedua menuju paling akhir = {persen_menuju_akhir}\")\n",
        "\n",
        "hasil = 1 - (persen_menuju_awal + persen_menuju_akhir)\n",
        "print(f\"probabilitasnya = {hasil}\")"
      ],
      "metadata": {
        "colab": {
          "base_uri": "https://localhost:8080/"
        },
        "id": "Jn5WtrI1P375",
        "outputId": "eded514a-c13b-44ce-b43b-ffde89ca9564"
      },
      "execution_count": 49,
      "outputs": [
        {
          "output_type": "stream",
          "name": "stdout",
          "text": [
            "Persentase dari baris kedua menuju paling akhir = 0.040059156863817086\n",
            "Persentase dari baris kedua menuju paling akhir = 0.012224472655044696\n",
            "probabilitasnya = 0.9477163704811382\n"
          ]
        }
      ]
    },
    {
      "cell_type": "markdown",
      "source": [
        "**Contoh Soal 2**\n",
        "\n",
        "Let x be a normal random variable with\n",
        "its mean equal to 40 and standard\n",
        "deviation equal to 5. Find the following\n",
        "probabilities for this normal distribution\n",
        "\n",
        "Cari probabilitas\n",
        "\n",
        "a. x > 55\n",
        "\n",
        "b. x < 49"
      ],
      "metadata": {
        "id": "ByytACSpVPPa"
      }
    },
    {
      "cell_type": "code",
      "source": [
        "# Membuat kurva distribusi normal\n",
        "sns.kdeplot(\n",
        "    stats.norm(40, 5).rvs(8500),\n",
        "    color=\"teal\",\n",
        "    fill=True\n",
        ").set(ylabel=\"contoh soal\");\n",
        "\n",
        "# Membuat garis pemisah\n",
        "plt.axvline(40);\n",
        "plt.axvline(55, color=\"red\", ls=\"--\");\n",
        "plt.axvline(49, color=\"red\", ls=\"--\");"
      ],
      "metadata": {
        "colab": {
          "base_uri": "https://localhost:8080/",
          "height": 430
        },
        "id": "MbuEqdJ4QrSU",
        "outputId": "436e4fb2-48da-4ef6-90b0-145f557b1446"
      },
      "execution_count": 54,
      "outputs": [
        {
          "output_type": "display_data",
          "data": {
            "text/plain": [
              "<Figure size 640x480 with 1 Axes>"
            ],
            "image/png": "[encoded data removed]"
          },
          "metadata": {}
        }
      ]
    },
    {
      "cell_type": "code",
      "source": [
        "# Menghitun nilai probabilitas yang tersisa\n",
        "persen_menuju_akhir = norm.sf(55, 40, 5)\n",
        "print(f\"Jawaban soal a = {persen_menuju_akhir}\")\n",
        "\n",
        "# Menghitun nilai probabilitas dari awal sampai angka yang ditentukan\n",
        "persen_menuju_awal = norm.cdf(49, 40, 5)\n",
        "print(f\"Jawaban soal b = {persen_menuju_awal}\")\n"
      ],
      "metadata": {
        "colab": {
          "base_uri": "https://localhost:8080/"
        },
        "id": "prWnFxvjRA7V",
        "outputId": "004583b6-f5d5-4c96-f8ea-73fdc81e3b11"
      },
      "execution_count": 56,
      "outputs": [
        {
          "output_type": "stream",
          "name": "stdout",
          "text": [
            "Jawaban soal a = 0.0013498980316300933\n",
            "Jawaban soal b = 0.9640696808870742\n"
          ]
        }
      ]
    }
  ]
}