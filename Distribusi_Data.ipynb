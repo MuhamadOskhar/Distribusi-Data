{
  "nbformat": 4,
  "nbformat_minor": 0,
  "metadata": {
    "colab": {
      "provenance": [],
      "authorship_tag": "ABX9TyN5ietWcVz9frUE0w4FY0IE",
      "include_colab_link": true
    },
    "kernelspec": {
      "name": "python3",
      "display_name": "Python 3"
    },
    "language_info": {
      "name": "python"
    }
  },
  "cells": [
    {
      "cell_type": "markdown",
      "metadata": {
        "id": "view-in-github",
        "colab_type": "text"
      },
      "source": [
        "<a href=\"https://colab.research.google.com/github/MuhamadOskhar/Distribusi-Data/blob/main/Distribusi_Data.ipynb\" target=\"_parent\"><img src=\"https://colab.research.google.com/assets/colab-badge.svg\" alt=\"Open In Colab\"/></a>"
      ]
    },
    {
      "cell_type": "markdown",
      "source": [
        "**Deklarasi Pustaka**\n",
        "\n",
        "Menyiapkan berbagai pustaka \"*library*,\" yang dibutuhkan dalam pembuatan program"
      ],
      "metadata": {
        "id": "0AJv7KIcCUmT"
      }
    },
    {
      "cell_type": "code",
      "execution_count": 44,
      "metadata": {
        "id": "CT1ScyCXXIc3"
      },
      "outputs": [],
      "source": [
        "from scipy.stats import binom, hypergeom, poisson\n",
        "from math import e"
      ]
    },
    {
      "cell_type": "markdown",
      "source": [
        "Deklarasi fungsi yang dibutuhkan untuk perhitungan semua rumus Distribusi di bawah"
      ],
      "metadata": {
        "id": "L_Bkks32aUqt"
      }
    },
    {
      "cell_type": "code",
      "source": [
        "def faktorial(angka):\n",
        "  hasil = 1\n",
        "  for i in range(1, angka + 1):\n",
        "    hasil *= i\n",
        "  return hasil\n",
        "\n",
        "def kombin(a, b):\n",
        "  return (faktorial(a) / (faktorial(a-b) * faktorial(b)))"
      ],
      "metadata": {
        "id": "5upnskvhaYLc"
      },
      "execution_count": 12,
      "outputs": []
    },
    {
      "cell_type": "markdown",
      "source": [
        "**Distribusi Binomial**\n",
        "\n",
        "{ Deskripsi }"
      ],
      "metadata": {
        "id": "MQfHGXAuXMmq"
      }
    },
    {
      "cell_type": "markdown",
      "source": [
        "Assigmen fungsi untuk perhitungan manual dari probabilitas distribusi Binomial"
      ],
      "metadata": {
        "id": "R4LEkQbODEx8"
      }
    },
    {
      "cell_type": "code",
      "source": [
        "def dist_b(n, x, p):\n",
        "  q = 1 - p\n",
        "  hasil = kombin(n, x) * p**x * q**(n-x)\n",
        "  return hasil"
      ],
      "metadata": {
        "id": "8WGeLic-DY6U"
      },
      "execution_count": 14,
      "outputs": []
    },
    {
      "cell_type": "markdown",
      "source": [
        "**PENERAPAN PADA CONTOH SOAL**\n",
        "\n",
        "**Contoh Soal 1**\n",
        "\n",
        "Kemungkinan yang dimiliki seorang balita untuk tidak diimunisasi campak\n",
        "adalah 1/5. Pada tanggal 26 Juni 2022, di klinik Fathullah Kece terdapat 4 orang\n",
        "balita. Berapakah peluang dari balita tersebut 2 orang belum mendapatkan\n",
        "imunisasi campak?\n",
        "\n",
        "Diketahui\n",
        "n = 4; x = 2; p = 1/5; "
      ],
      "metadata": {
        "id": "c-lPDkjsbCRv"
      }
    },
    {
      "cell_type": "markdown",
      "source": [
        "**Rumus Manual**"
      ],
      "metadata": {
        "id": "h8xhCsy0dFlD"
      }
    },
    {
      "cell_type": "code",
      "source": [
        "n = 4\n",
        "x = 2\n",
        "p = 1/5\n",
        "\n",
        "dist_b(n, x, p)"
      ],
      "metadata": {
        "colab": {
          "base_uri": "https://localhost:8080/"
        },
        "id": "FVqti8gsbbPx",
        "outputId": "67f4f30a-321a-464e-b75f-9be70585d061"
      },
      "execution_count": 30,
      "outputs": [
        {
          "output_type": "execute_result",
          "data": {
            "text/plain": [
              "0.15360000000000007"
            ]
          },
          "metadata": {},
          "execution_count": 30
        }
      ]
    },
    {
      "cell_type": "markdown",
      "source": [
        "**Rumus Pustaka**"
      ],
      "metadata": {
        "id": "ZiZ5i7tmddUp"
      }
    },
    {
      "cell_type": "code",
      "source": [
        "n = 4\n",
        "x = 2\n",
        "p = 1/5\n",
        "\n",
        "binom.pmf(x, n, p)"
      ],
      "metadata": {
        "colab": {
          "base_uri": "https://localhost:8080/"
        },
        "id": "bXxnKGjTdhDf",
        "outputId": "84d517e9-a5f0-46fd-b59f-303a754b7713"
      },
      "execution_count": 29,
      "outputs": [
        {
          "output_type": "execute_result",
          "data": {
            "text/plain": [
              "0.1535999999999999"
            ]
          },
          "metadata": {},
          "execution_count": 29
        }
      ]
    },
    {
      "cell_type": "markdown",
      "source": [
        "**Contohh Soal 2**\n",
        "\n",
        "Hitunglah berapa peluang seseorang mendapatkan 1 kali dalam 3 percobaan berupa angka 5 dari kombinasi 2 buah dadu yang dilontarkan.\n",
        "\n",
        "Diketahui n = 3; x = 1; p = ?\n",
        "\n",
        "Kombinasi dadu yang menghasilkan angka 5 = {(1,4), (2, 3), (3,2), (4,1)}\n",
        "Jadi, p = 4/36 = 1/9"
      ],
      "metadata": {
        "id": "Er58CBrMcEVw"
      }
    },
    {
      "cell_type": "markdown",
      "source": [
        "**Rumus Manual**"
      ],
      "metadata": {
        "id": "5Zn150D_e0KX"
      }
    },
    {
      "cell_type": "code",
      "source": [
        "n = 3\n",
        "x = 1\n",
        "p = 1/9\n",
        "\n",
        "dist_b(n, x, p)"
      ],
      "metadata": {
        "colab": {
          "base_uri": "https://localhost:8080/"
        },
        "id": "Zu3oxkA2cH7h",
        "outputId": "0ec940e5-cec3-4e5b-d9ec-4f8d99a99319"
      },
      "execution_count": 31,
      "outputs": [
        {
          "output_type": "execute_result",
          "data": {
            "text/plain": [
              "0.2633744855967078"
            ]
          },
          "metadata": {},
          "execution_count": 31
        }
      ]
    },
    {
      "cell_type": "markdown",
      "source": [
        "**Rumus Pustaka**"
      ],
      "metadata": {
        "id": "YK15kj8Te33O"
      }
    },
    {
      "cell_type": "code",
      "source": [
        "n = 3\n",
        "x = 1\n",
        "p = 1/9\n",
        "\n",
        "binom.pmf(x, n, p)"
      ],
      "metadata": {
        "colab": {
          "base_uri": "https://localhost:8080/"
        },
        "id": "nm2UWADUe9ze",
        "outputId": "bc8b3847-bd98-4bda-8781-f3b942120415"
      },
      "execution_count": 32,
      "outputs": [
        {
          "output_type": "execute_result",
          "data": {
            "text/plain": [
              "0.2633744855967077"
            ]
          },
          "metadata": {},
          "execution_count": 32
        }
      ]
    },
    {
      "cell_type": "markdown",
      "source": [
        "**Distribusi Hypergeometric**\n",
        "\n",
        "{ Deskripsi }"
      ],
      "metadata": {
        "id": "scOy6ByADq9V"
      }
    },
    {
      "cell_type": "markdown",
      "source": [
        "Assigmen fungsi untuk perhitungan manual dari probabilitas distribusi Hypergeometric"
      ],
      "metadata": {
        "id": "FL4LFHPhD593"
      }
    },
    {
      "cell_type": "code",
      "source": [
        "def dist_h(n, s, z, x):\n",
        "  hasil = (kombin(s, x) * kombin(n-s, z-x)) / kombin(n, z)\n",
        "  return hasil"
      ],
      "metadata": {
        "id": "wghI4NezEoIT"
      },
      "execution_count": 35,
      "outputs": []
    },
    {
      "cell_type": "markdown",
      "source": [
        "**PENERAPAN PADA CONTOH SOAL**\n",
        "\n",
        "**Contoh Soal 1**\n",
        "\n",
        "Seorang Manager memilih secara acak 4 staf teladan dari total 15 orang yang terbaik, 5 diantaranya Pria. Akan terpilih 4 orang untuk menjadi karyawan teladan. Berapakah kemungkinan ada 3 Pria yang akan menjadi karyawan teladan?\n",
        "\n",
        "Diketahui n = 15; s = 5; x = 3; z = 4"
      ],
      "metadata": {
        "id": "Vm7gM5Wgg3GN"
      }
    },
    {
      "cell_type": "markdown",
      "source": [
        "**Rumus Manual**"
      ],
      "metadata": {
        "id": "UajDdwelg45k"
      }
    },
    {
      "cell_type": "code",
      "source": [
        "n = 15\n",
        "s = 5\n",
        "x = 3\n",
        "z = 4\n",
        "\n",
        "dist_h(n, s, z, x)"
      ],
      "metadata": {
        "id": "-qYi1hYnhb6-",
        "outputId": "47832b4f-b6ee-4272-9dab-15cc9cf1be4e",
        "colab": {
          "base_uri": "https://localhost:8080/"
        }
      },
      "execution_count": 36,
      "outputs": [
        {
          "output_type": "execute_result",
          "data": {
            "text/plain": [
              "0.07326007326007326"
            ]
          },
          "metadata": {},
          "execution_count": 36
        }
      ]
    },
    {
      "cell_type": "markdown",
      "source": [
        "**Rumus Pustaka**"
      ],
      "metadata": {
        "id": "z4mb2sUfhvF4"
      }
    },
    {
      "cell_type": "code",
      "source": [
        "n = 15\n",
        "s = 5\n",
        "x = 3\n",
        "z = 4\n",
        "\n",
        "hypergeom.pmf(x, n, s, z)"
      ],
      "metadata": {
        "id": "Y8P8M0JEhxYE",
        "outputId": "e5f6037a-ac2b-434d-e1e3-7926461a417b",
        "colab": {
          "base_uri": "https://localhost:8080/"
        }
      },
      "execution_count": 39,
      "outputs": [
        {
          "output_type": "execute_result",
          "data": {
            "text/plain": [
              "0.07326007326007326"
            ]
          },
          "metadata": {},
          "execution_count": 39
        }
      ]
    },
    {
      "cell_type": "markdown",
      "source": [
        "**Contoh Soal 2**\n",
        "\n",
        "Di sebuah kelas terdapat 40 siswa, di mana 15 siswa laki-laki dan 25 siswa perempuan. Dalam ujian matematika, terdapat 5 soal pilihan ganda yang harus dijawab. Jika 2 siswa dipilih secara acak untuk diwawancarai dan ditanyakan apakah mereka bisa menjawab soal nomor 3, berapakah probabilitas bahwa kedua siswa tersebut perempuan?\n",
        "\n",
        "Diketahui n = 50; s = 20; x = 2; z = 5"
      ],
      "metadata": {
        "id": "CZqxJZnGilOa"
      }
    },
    {
      "cell_type": "markdown",
      "source": [
        "**Rumus Manual**"
      ],
      "metadata": {
        "id": "Gih62-AwjNjm"
      }
    },
    {
      "cell_type": "code",
      "source": [
        "n = 50\n",
        "s = 20\n",
        "x = 2\n",
        "z = 5\n",
        "\n",
        "dist_h(n, s, z, x)"
      ],
      "metadata": {
        "id": "7vwD7Jr1jDUC",
        "outputId": "77e0649e-b08a-44c6-903c-4f39934cab25",
        "colab": {
          "base_uri": "https://localhost:8080/"
        }
      },
      "execution_count": 40,
      "outputs": [
        {
          "output_type": "execute_result",
          "data": {
            "text/plain": [
              "0.3640808774943835"
            ]
          },
          "metadata": {},
          "execution_count": 40
        }
      ]
    },
    {
      "cell_type": "markdown",
      "source": [
        "**Rumus Pustaka**"
      ],
      "metadata": {
        "id": "xPInldHWjQBi"
      }
    },
    {
      "cell_type": "code",
      "source": [
        "n = 50\n",
        "s = 20\n",
        "x = 2\n",
        "z = 5\n",
        "\n",
        "hypergeom.pmf(x, n, s, z)"
      ],
      "metadata": {
        "id": "2RbNtEdkjSqy",
        "outputId": "7da65683-8b69-494b-b1d8-9013839a35aa",
        "colab": {
          "base_uri": "https://localhost:8080/"
        }
      },
      "execution_count": 42,
      "outputs": [
        {
          "output_type": "execute_result",
          "data": {
            "text/plain": [
              "0.3640808774943835"
            ]
          },
          "metadata": {},
          "execution_count": 42
        }
      ]
    },
    {
      "cell_type": "markdown",
      "source": [
        "**Distribusi Poisson**\n",
        "\n",
        "{ Deskripsi }\n"
      ],
      "metadata": {
        "id": "83DhiGaEFCSj"
      }
    },
    {
      "cell_type": "markdown",
      "source": [
        "Assigmen fungsi untuk perhitungan manual dari probabilitas distribusi Poisson"
      ],
      "metadata": {
        "id": "IJ0fsle8FRTC"
      }
    },
    {
      "cell_type": "code",
      "source": [
        "def dist_p(lam, x):\n",
        "  hasil = (lam**x * e**(-lam)) / faktorial(x)\n",
        "  return hasil\n",
        "\n",
        "dist_p(3, 4)"
      ],
      "metadata": {
        "id": "qMPl3MZnFeSW",
        "colab": {
          "base_uri": "https://localhost:8080/"
        },
        "outputId": "4b3a6645-60ea-46e7-89f0-234394d25146"
      },
      "execution_count": 48,
      "outputs": [
        {
          "output_type": "execute_result",
          "data": {
            "text/plain": [
              "0.16803135574154082"
            ]
          },
          "metadata": {},
          "execution_count": 48
        }
      ]
    }
  ]
}